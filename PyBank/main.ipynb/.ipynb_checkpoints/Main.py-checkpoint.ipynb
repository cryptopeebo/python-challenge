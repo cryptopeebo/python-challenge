{
 "cells": [
  {
   "cell_type": "code",
   "execution_count": 88,
   "id": "03510e1e-594d-47be-9fbc-226159782d73",
   "metadata": {},
   "outputs": [
    {
     "name": "stdout",
     "output_type": "stream",
     "text": [
      "Total Months: 86\n",
      "Total Net Profit: $38382578\n",
      "Monthly Average Change: $-2315.1176470588234\n",
      "Greatest Increase in Profits: ['12-Feb', 1926159]\n",
      "Greatest Decrease in Profits: ['13-Sep', -2196167]\n"
     ]
    }
   ],
   "source": [
    "# Import the pathlib and csv library\n",
    "from pathlib import Path\n",
    "import csv\n",
    "\n",
    "# Set the file path\n",
    "csvpath = Path(\"./budget_data.csv\")\n",
    "\n",
    "# Establish Variables\n",
    "total_months = 0\n",
    "total_net_profit = 0\n",
    "average_change_list = []\n",
    "greatest_increase_in_profits = ['', 0]\n",
    "greatest_decrease_in_profits = ['', 9999999999999]\n",
    "total_average_change = 0\n",
    "\n",
    "# Open the input path as a file object\n",
    "with open(csvpath, \"r\") as csvfile:\n",
    "    csvreader = csv.reader(csvfile, delimiter = ',')\n",
    "\n",
    "# Pass in the csv file to the csv.reader() function\n",
    "    # (with ',' as the delmiter/separator) and return the csvreader object\n",
    "    csv_header = next(csvreader)\n",
    "    \n",
    "# Go to the next row from the start of the file\n",
    "    # (which is often the first row/header) and iterate line_num by 1\n",
    "    first_line = next(csvreader)\n",
    "    \n",
    "# Sum the total and count variables\n",
    "    total_months = total_months + 1\n",
    "    total_net_profit = total_net_profit + int(first_line[1])\n",
    "    previous_pnl = int(first_line[1])\n",
    "    \n",
    "# Logic to determine greatest monthly increase & decrease\n",
    "    for row in csvreader:\n",
    "        total_months = total_months + 1\n",
    "        total_net_profit = total_net_profit +int(row[1])\n",
    "        net_change = int(row[1]) - previous_pnl\n",
    "        average_change_list.append(net_change)\n",
    "        previous_pnl = int(row[1])\n",
    "        if net_change > greatest_increase_in_profits[1]:\n",
    "            greatest_increase_in_profits[0] = row[0]\n",
    "            greatest_increase_in_profits[1] = net_change\n",
    "        if net_change < greatest_decrease_in_profits[1]:\n",
    "            greatest_decrease_in_profits[0] = row[0]\n",
    "            greatest_decrease_in_profits[1] = net_change\n",
    "            \n",
    "# Print the metrics\n",
    "    print(f'Total Months: {total_months}')\n",
    "    print(f'Total Net Profit: ${total_net_profit}')\n",
    "    print(f'Monthly Average Change: ${sum(average_change_list)/len(average_change_list)}')\n",
    "    print(f'Greatest Increase in Profits: {greatest_increase_in_profits}')\n",
    "    print(f'Greatest Decrease in Profits: {greatest_decrease_in_profits}')"
   ]
  },
  {
   "cell_type": "code",
   "execution_count": null,
   "id": "cac376f4-f6c0-4c88-b487-132291609ebc",
   "metadata": {},
   "outputs": [],
   "source": []
  }
 ],
 "metadata": {
  "kernelspec": {
   "display_name": "Python 3 (ipykernel)",
   "language": "python",
   "name": "python3"
  },
  "language_info": {
   "codemirror_mode": {
    "name": "ipython",
    "version": 3
   },
   "file_extension": ".py",
   "mimetype": "text/x-python",
   "name": "python",
   "nbconvert_exporter": "python",
   "pygments_lexer": "ipython3",
   "version": "3.9.16"
  }
 },
 "nbformat": 4,
 "nbformat_minor": 5
}
